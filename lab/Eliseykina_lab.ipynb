{
 "cells": [
  {
   "cell_type": "markdown",
   "id": "03f65c34",
   "metadata": {},
   "source": [
    "Лабораторная работа. MySQL. Елисейкина Екатерина"
   ]
  },
  {
   "cell_type": "markdown",
   "id": "5eb70951",
   "metadata": {},
   "source": [
    "Так как недавно вышел новый фильм Марвел, я решила на праздничных днях не думать о лингвистике и взяла датасет с информацией о [фильмах DC и Марвел](https://www.kaggle.com/datasets/leonardopena/marvel-vs-dc)"
   ]
  },
  {
   "cell_type": "markdown",
   "id": "d551bc4d",
   "metadata": {},
   "source": [
    "**Данные и таблицы**\n"
   ]
  },
  {
   "cell_type": "code",
   "execution_count": 4,
   "id": "fe86c4f5",
   "metadata": {},
   "outputs": [],
   "source": [
    "import pandas as pd"
   ]
  },
  {
   "cell_type": "code",
   "execution_count": 5,
   "id": "1574c831",
   "metadata": {},
   "outputs": [
    {
     "data": {
      "text/html": [
       "<div>\n",
       "<style scoped>\n",
       "    .dataframe tbody tr th:only-of-type {\n",
       "        vertical-align: middle;\n",
       "    }\n",
       "\n",
       "    .dataframe tbody tr th {\n",
       "        vertical-align: top;\n",
       "    }\n",
       "\n",
       "    .dataframe thead th {\n",
       "        text-align: right;\n",
       "    }\n",
       "</style>\n",
       "<table border=\"1\" class=\"dataframe\">\n",
       "  <thead>\n",
       "    <tr style=\"text-align: right;\">\n",
       "      <th></th>\n",
       "      <th>Unnamed: 0</th>\n",
       "      <th>Original Title</th>\n",
       "      <th>Company</th>\n",
       "      <th>Rate</th>\n",
       "      <th>Metascore</th>\n",
       "      <th>Minutes</th>\n",
       "      <th>Release</th>\n",
       "      <th>Budget</th>\n",
       "      <th>Opening Weekend USA</th>\n",
       "      <th>Gross USA</th>\n",
       "      <th>Gross Worldwide</th>\n",
       "    </tr>\n",
       "  </thead>\n",
       "  <tbody>\n",
       "    <tr>\n",
       "      <th>0</th>\n",
       "      <td>1</td>\n",
       "      <td>Iron Man</td>\n",
       "      <td>Marvel</td>\n",
       "      <td>7.9</td>\n",
       "      <td>79</td>\n",
       "      <td>126</td>\n",
       "      <td>2008</td>\n",
       "      <td>140000000</td>\n",
       "      <td>98618668</td>\n",
       "      <td>318604126</td>\n",
       "      <td>585366247</td>\n",
       "    </tr>\n",
       "    <tr>\n",
       "      <th>1</th>\n",
       "      <td>2</td>\n",
       "      <td>The Incredible Hulk</td>\n",
       "      <td>Marvel</td>\n",
       "      <td>6.7</td>\n",
       "      <td>61</td>\n",
       "      <td>112</td>\n",
       "      <td>2008</td>\n",
       "      <td>150000000</td>\n",
       "      <td>55414050</td>\n",
       "      <td>134806913</td>\n",
       "      <td>263427551</td>\n",
       "    </tr>\n",
       "    <tr>\n",
       "      <th>2</th>\n",
       "      <td>3</td>\n",
       "      <td>Iron Man 2</td>\n",
       "      <td>Marvel</td>\n",
       "      <td>7.0</td>\n",
       "      <td>57</td>\n",
       "      <td>124</td>\n",
       "      <td>2010</td>\n",
       "      <td>200000000</td>\n",
       "      <td>128122480</td>\n",
       "      <td>312433331</td>\n",
       "      <td>623933331</td>\n",
       "    </tr>\n",
       "    <tr>\n",
       "      <th>3</th>\n",
       "      <td>4</td>\n",
       "      <td>Thor</td>\n",
       "      <td>Marvel</td>\n",
       "      <td>7.0</td>\n",
       "      <td>57</td>\n",
       "      <td>115</td>\n",
       "      <td>2011</td>\n",
       "      <td>150000000</td>\n",
       "      <td>65723338</td>\n",
       "      <td>181030624</td>\n",
       "      <td>449326618</td>\n",
       "    </tr>\n",
       "    <tr>\n",
       "      <th>4</th>\n",
       "      <td>5</td>\n",
       "      <td>Captain America: The First Avenger</td>\n",
       "      <td>Marvel</td>\n",
       "      <td>6.9</td>\n",
       "      <td>66</td>\n",
       "      <td>124</td>\n",
       "      <td>2011</td>\n",
       "      <td>140000000</td>\n",
       "      <td>65058524</td>\n",
       "      <td>176654505</td>\n",
       "      <td>370569774</td>\n",
       "    </tr>\n",
       "  </tbody>\n",
       "</table>\n",
       "</div>"
      ],
      "text/plain": [
       "   Unnamed: 0                      Original Title Company  Rate  Metascore  \\\n",
       "0           1                            Iron Man  Marvel   7.9         79   \n",
       "1           2                 The Incredible Hulk  Marvel   6.7         61   \n",
       "2           3                          Iron Man 2  Marvel   7.0         57   \n",
       "3           4                                Thor  Marvel   7.0         57   \n",
       "4           5  Captain America: The First Avenger  Marvel   6.9         66   \n",
       "\n",
       "  Minutes  Release      Budget  Opening Weekend USA  Gross USA  \\\n",
       "0     126     2008   140000000             98618668  318604126   \n",
       "1    112      2008   150000000             55414050  134806913   \n",
       "2    124      2010   200000000            128122480  312433331   \n",
       "3     115     2011  150000000              65723338  181030624   \n",
       "4     124     2011   140000000             65058524  176654505   \n",
       "\n",
       "   Gross Worldwide  \n",
       "0        585366247  \n",
       "1        263427551  \n",
       "2        623933331  \n",
       "3        449326618  \n",
       "4        370569774  "
      ]
     },
     "execution_count": 5,
     "metadata": {},
     "output_type": "execute_result"
    }
   ],
   "source": [
    "path = 'marvel vs dc.csv' #измените путь на свой\n",
    "df = pd.read_csv(path, encoding='latin1') #пушкинский дом выкладывает файлы в  tsv (tab separated values), поэтому надо указать правильный делиметер\n",
    "df.head()"
   ]
  },
  {
   "cell_type": "markdown",
   "id": "00b51af6",
   "metadata": {},
   "source": [
    "Лишнее уберем"
   ]
  },
  {
   "cell_type": "code",
   "execution_count": 6,
   "id": "36af3046",
   "metadata": {},
   "outputs": [],
   "source": [
    "df = df.drop('Unnamed: 0', axis=1) "
   ]
  },
  {
   "cell_type": "markdown",
   "id": "1eb6e28e",
   "metadata": {},
   "source": [
    "Нечеловеческое перевед в читаемое"
   ]
  },
  {
   "cell_type": "code",
   "execution_count": 7,
   "id": "42240bdc",
   "metadata": {},
   "outputs": [],
   "source": [
    "df = df.rename(columns={'Gross\\xa0USA': 'Gross USA'})"
   ]
  },
  {
   "cell_type": "code",
   "execution_count": 8,
   "id": "614aba7b",
   "metadata": {},
   "outputs": [
    {
     "name": "stdout",
     "output_type": "stream",
     "text": [
      "<class 'pandas.core.frame.DataFrame'>\n",
      "RangeIndex: 39 entries, 0 to 38\n",
      "Data columns (total 10 columns):\n",
      " #   Column               Non-Null Count  Dtype  \n",
      "---  ------               --------------  -----  \n",
      " 0   Original Title       39 non-null     object \n",
      " 1   Company              39 non-null     object \n",
      " 2   Rate                 39 non-null     float64\n",
      " 3   Metascore            39 non-null     int64  \n",
      " 4   Minutes              39 non-null     object \n",
      " 5   Release              39 non-null     int64  \n",
      " 6   Budget               39 non-null     object \n",
      " 7   Opening Weekend USA  39 non-null     int64  \n",
      " 8   Gross USA            39 non-null     int64  \n",
      " 9   Gross Worldwide      39 non-null     int64  \n",
      "dtypes: float64(1), int64(5), object(4)\n",
      "memory usage: 3.2+ KB\n"
     ]
    }
   ],
   "source": [
    "df.info()"
   ]
  },
  {
   "cell_type": "markdown",
   "id": "6f70224c",
   "metadata": {},
   "source": [
    "Итак, у нас 10 столбцов, которые, на мой взгляд, можно логично разбить на 4 таблички (на схеме ключи и атрибуты отражены)"
   ]
  },
  {
   "cell_type": "code",
   "execution_count": 9,
   "id": "f1a2866b",
   "metadata": {},
   "outputs": [
    {
     "name": "stdout",
     "output_type": "stream",
     "text": [
      "Requirement already satisfied: mysql-connector-python in c:\\users\\kate2\\appdata\\local\\programs\\python\\python310\\lib\\site-packages (9.3.0)\n",
      "Note: you may need to restart the kernel to use updated packages.\n"
     ]
    },
    {
     "name": "stderr",
     "output_type": "stream",
     "text": [
      "\n",
      "[notice] A new release of pip available: 22.3.1 -> 25.1.1\n",
      "[notice] To update, run: python.exe -m pip install --upgrade pip\n"
     ]
    }
   ],
   "source": [
    "%pip install mysql-connector-python"
   ]
  },
  {
   "cell_type": "code",
   "execution_count": 10,
   "id": "8467d3ca",
   "metadata": {},
   "outputs": [],
   "source": [
    "with open('password.txt', 'r') as f:\n",
    "    password = f.read().strip()"
   ]
  },
  {
   "cell_type": "code",
   "execution_count": 11,
   "id": "e4401188",
   "metadata": {},
   "outputs": [],
   "source": [
    "import mysql.connector\n",
    "from getpass import getpass"
   ]
  },
  {
   "cell_type": "code",
   "execution_count": 12,
   "id": "42ef2260",
   "metadata": {},
   "outputs": [
    {
     "name": "stdout",
     "output_type": "stream",
     "text": [
      "('backoffice',)\n",
      "('information_schema',)\n",
      "('lingua',)\n",
      "('mcu_vs_dcu',)\n",
      "('mysql',)\n",
      "('new_schema',)\n",
      "('performance_schema',)\n",
      "('sakila',)\n",
      "('sys',)\n",
      "('world',)\n",
      "('writers',)\n"
     ]
    }
   ],
   "source": [
    "mydb = mysql.connector.connect(\n",
    "    host = 'localhost',\n",
    "    user = \"root\",\n",
    "    password = password\n",
    ")\n",
    "\n",
    "mycursor = mydb.cursor()\n",
    "mycursor.execute(\"SHOW DATABASES\")\n",
    "\n",
    "for database in mycursor:\n",
    "  print(database)"
   ]
  },
  {
   "cell_type": "code",
   "execution_count": null,
   "id": "b243fe18",
   "metadata": {},
   "outputs": [],
   "source": [
    "mydb = mysql.connector.connect(\n",
    "  host = \"localhost\",\n",
    "  user = \"root\",\n",
    "  password = password   \n",
    ")\n",
    "\n",
    "mycursor = mydb.cursor()\n",
    "mycursor.execute(\"CREATE DATABASE mcu_vs_dcu\")"
   ]
  },
  {
   "cell_type": "code",
   "execution_count": 14,
   "id": "fa4a7e20",
   "metadata": {},
   "outputs": [
    {
     "name": "stdout",
     "output_type": "stream",
     "text": [
      "('analytics',)\n",
      "('companies',)\n",
      "('finance',)\n",
      "('movies',)\n",
      "('ratings',)\n"
     ]
    }
   ],
   "source": [
    "mydb = mysql.connector.connect(\n",
    "    host = \"localhost\",\n",
    "    user = \"root\",\n",
    "    password = password,\n",
    "    database = 'mcu_vs_dcu'\n",
    ")\n",
    "\n",
    "mycursor = mydb.cursor()\n",
    "mycursor.execute(\"SHOW TABLES\")\n",
    "\n",
    "for table in mycursor:\n",
    "  print(table)"
   ]
  },
  {
   "cell_type": "markdown",
   "id": "dc50a5f1",
   "metadata": {},
   "source": [
    "Первая табличка простая, но очень нужна будет для аналитики. Два столбца: ключ и имя (их всего два Marvel и DC)"
   ]
  },
  {
   "cell_type": "code",
   "execution_count": 35,
   "id": "9f0c0172",
   "metadata": {},
   "outputs": [],
   "source": [
    "mydb = mysql.connector.connect(\n",
    "    host = \"localhost\",\n",
    "    user = \"root\",\n",
    "    password = password,\n",
    "    database = 'mcu_vs_dcu'\n",
    ")\n",
    "\n",
    "mycursor = mydb.cursor()\n",
    "mycursor.execute(\"\"\"CREATE TABLE companies (\n",
    "    company_id INT PRIMARY KEY AUTO_INCREMENT,\n",
    "    company_name VARCHAR(255) NOT NULL UNIQUE\n",
    ")\"\"\")"
   ]
  },
  {
   "cell_type": "code",
   "execution_count": 36,
   "id": "ead537b6",
   "metadata": {},
   "outputs": [
    {
     "name": "stdout",
     "output_type": "stream",
     "text": [
      "('companies',)\n"
     ]
    }
   ],
   "source": [
    "mydb = mysql.connector.connect(\n",
    "    host = \"localhost\",\n",
    "    user = \"root\",\n",
    "    password = password,\n",
    "    database = 'mcu_vs_dcu'\n",
    ")\n",
    "\n",
    "mycursor = mydb.cursor()\n",
    "mycursor.execute(\"SHOW TABLES\")\n",
    "\n",
    "for table in mycursor:\n",
    "  print(table)"
   ]
  },
  {
   "cell_type": "markdown",
   "id": "47792a0e",
   "metadata": {},
   "source": [
    "Получим наименования"
   ]
  },
  {
   "cell_type": "code",
   "execution_count": 40,
   "id": "030806b5",
   "metadata": {},
   "outputs": [
    {
     "data": {
      "text/plain": [
       "[('Marvel',), ('DC',)]"
      ]
     },
     "execution_count": 40,
     "metadata": {},
     "output_type": "execute_result"
    }
   ],
   "source": [
    "companies = df['Company'].unique()\n",
    "companies = [(company,) for company in companies]\n",
    "companies"
   ]
  },
  {
   "cell_type": "markdown",
   "id": "714897db",
   "metadata": {},
   "source": [
    "И запишем их в таблицу"
   ]
  },
  {
   "cell_type": "code",
   "execution_count": 41,
   "id": "7bd1a061",
   "metadata": {},
   "outputs": [],
   "source": [
    "mydb = mysql.connector.connect(\n",
    "    host = \"localhost\",\n",
    "    user = \"root\",\n",
    "    password = password,\n",
    "    database = 'mcu_vs_dcu'\n",
    ")\n",
    "\n",
    "mycursor = mydb.cursor()\n",
    "sql = \"INSERT INTO companies (company_name) VALUES (%s)\"\n",
    "\n",
    "mycursor.executemany(sql, companies) \n",
    "mydb.commit() #не забудьте делать коммит, иначе не сохранится запись в БД"
   ]
  },
  {
   "cell_type": "markdown",
   "id": "e162acd2",
   "metadata": {},
   "source": [
    "Следующая таблица про фильмы, в которую я включила информацию: название, год выпуска, длительность и айди комании (внешний ключ)"
   ]
  },
  {
   "cell_type": "code",
   "execution_count": 42,
   "id": "f0f8e993",
   "metadata": {},
   "outputs": [],
   "source": [
    "mydb = mysql.connector.connect(\n",
    "    host = \"localhost\",\n",
    "    user = \"root\",\n",
    "    password = password,\n",
    "    database = 'mcu_vs_dcu'\n",
    ")\n",
    "\n",
    "mycursor = mydb.cursor()\n",
    "mycursor.execute(\"\"\"CREATE TABLE movies (\n",
    "    movie_id INT PRIMARY KEY AUTO_INCREMENT,\n",
    "    original_title VARCHAR(255) NOT NULL,\n",
    "    release_year INT,\n",
    "    duration_min INT,\n",
    "    company_id INT,\n",
    "    FOREIGN KEY (company_id) REFERENCES companies(company_id)\n",
    ")\"\"\")"
   ]
  },
  {
   "cell_type": "markdown",
   "id": "4dda6381",
   "metadata": {},
   "source": [
    "Получим айди компании и остальную информацию для заполнения"
   ]
  },
  {
   "cell_type": "code",
   "execution_count": 46,
   "id": "17c340b9",
   "metadata": {},
   "outputs": [
    {
     "data": {
      "text/plain": [
       "{'DC': 2, 'Marvel': 1}"
      ]
     },
     "execution_count": 46,
     "metadata": {},
     "output_type": "execute_result"
    }
   ],
   "source": [
    "mycursor.execute(\"SELECT company_id, company_name FROM companies\")\n",
    "company_ids = {name: id for id, name in mycursor}\n",
    "company_ids"
   ]
  },
  {
   "cell_type": "code",
   "execution_count": 50,
   "id": "120340c4",
   "metadata": {},
   "outputs": [
    {
     "data": {
      "text/plain": [
       "[('Iron Man', 2008, 126, 1),\n",
       " ('The Incredible Hulk', 2008, 112, 1),\n",
       " ('Iron Man 2', 2010, 124, 1),\n",
       " ('Thor', 2011, 115, 1),\n",
       " ('Captain America: The First Avenger', 2011, 124, 1),\n",
       " ('The Avengers', 2012, 143, 1),\n",
       " ('Iron Man Three', 2013, 130, 1),\n",
       " ('Thor: The Dark World', 2013, 112, 1),\n",
       " ('Captain America: The Winter Soldier', 2014, 136, 1),\n",
       " ('Guardians of the Galaxy', 2014, 121, 1),\n",
       " ('Avengers: Age of Ultron\\xa0', 2015, 141, 1),\n",
       " ('Ant-Man', 2015, 117, 1),\n",
       " ('Captain America: Civil War', 2016, 147, 1),\n",
       " ('Doctor Strange', 2016, 115, 1),\n",
       " ('Guardians of the Galaxy Vol. 2', 2017, 136, 1),\n",
       " ('Spider-Man: Homecoming', 2017, 133, 1),\n",
       " ('Thor:Ragnarok', 2017, 130, 1),\n",
       " ('Black Panther', 2018, 134, 1),\n",
       " ('Avengers: Infinity War', 2018, 149, 1),\n",
       " ('Ant-Man and the Wasp', 2018, 118, 1),\n",
       " ('Captain Marve', 2019, 123, 1),\n",
       " ('Avengers: Endgame', 2019, 181, 1),\n",
       " ('Spider-Man: Far from Home', 2019, 129, 1),\n",
       " ('Catwoman', 2004, 104, 2),\n",
       " ('Batman Begins', 2005, 140, 2),\n",
       " ('Superman Returns', 2006, 154, 2),\n",
       " ('The Dark Knight', 2008, 152, 2),\n",
       " ('Watchmen', 2009, 162, 2),\n",
       " ('Jonah Hex\\xa0', 2010, 81, 2),\n",
       " ('Green Lantern', 2011, 114, 2),\n",
       " ('The Dark Knight Rises', 2012, 164, 2),\n",
       " ('Man of Steel', 2013, 143, 2),\n",
       " ('Batman v Superman: Dawn of Justice', 2016, 151, 2),\n",
       " ('Suicide Squad\\xa0', 2016, 123, 2),\n",
       " ('Wonder Woman', 2017, 141, 2),\n",
       " ('Justice League', 2017, 120, 2),\n",
       " ('Aquaman', 2018, 143, 2),\n",
       " ('Shazam!', 2019, 132, 2),\n",
       " ('Joker', 2019, 122, 2)]"
      ]
     },
     "execution_count": 50,
     "metadata": {},
     "output_type": "execute_result"
    }
   ],
   "source": [
    "movies = [\n",
    "    (\n",
    "        str(df['Original Title'][i]), \n",
    "        int(df['Release'][i]),\n",
    "        int(df['Minutes'][i]), \n",
    "        company_ids[df['Company'][i]],\n",
    "        ) \n",
    "        for i in df.index\n",
    "    ]\n",
    "\n",
    "movies"
   ]
  },
  {
   "cell_type": "code",
   "execution_count": 52,
   "id": "32e2ff7f",
   "metadata": {},
   "outputs": [],
   "source": [
    "mydb = mysql.connector.connect(\n",
    "    host = \"localhost\",\n",
    "    user = \"root\",\n",
    "    password = password,\n",
    "    database = 'mcu_vs_dcu'\n",
    ")\n",
    "\n",
    "mycursor = mydb.cursor()\n",
    "sql = \"INSERT INTO movies (original_title, release_year, duration_min, company_id) VALUES (%s, %s, %s, %s)\"\n",
    "\n",
    "mycursor.executemany(sql, movies) \n",
    "mydb.commit() "
   ]
  },
  {
   "cell_type": "markdown",
   "id": "74733ba2",
   "metadata": {},
   "source": [
    "Таблица с рейтингом и рейтингом кинокритиков"
   ]
  },
  {
   "cell_type": "code",
   "execution_count": 53,
   "id": "c43b6be9",
   "metadata": {},
   "outputs": [],
   "source": [
    "mydb = mysql.connector.connect(\n",
    "    host = \"localhost\",\n",
    "    user = \"root\",\n",
    "    password = password,\n",
    "    database = 'mcu_vs_dcu'\n",
    ")\n",
    "\n",
    "mycursor = mydb.cursor()\n",
    "mycursor.execute(\"\"\"CREATE TABLE ratings (\n",
    "    movie_id INT NOT NULL,\n",
    "    rate FLOAT,\n",
    "    metascore INT,\n",
    "    FOREIGN KEY (movie_id) REFERENCES movies(movie_id)\n",
    ")\"\"\")"
   ]
  },
  {
   "cell_type": "code",
   "execution_count": 54,
   "id": "5d9cf355",
   "metadata": {},
   "outputs": [
    {
     "data": {
      "text/plain": [
       "{'Iron Man': 1,\n",
       " 'The Incredible Hulk': 2,\n",
       " 'Iron Man 2': 3,\n",
       " 'Thor': 4,\n",
       " 'Captain America: The First Avenger': 5,\n",
       " 'The Avengers': 6,\n",
       " 'Iron Man Three': 7,\n",
       " 'Thor: The Dark World': 8,\n",
       " 'Captain America: The Winter Soldier': 9,\n",
       " 'Guardians of the Galaxy': 10,\n",
       " 'Avengers: Age of Ultron\\xa0': 11,\n",
       " 'Ant-Man': 12,\n",
       " 'Captain America: Civil War': 13,\n",
       " 'Doctor Strange': 14,\n",
       " 'Guardians of the Galaxy Vol. 2': 15,\n",
       " 'Spider-Man: Homecoming': 16,\n",
       " 'Thor:Ragnarok': 17,\n",
       " 'Black Panther': 18,\n",
       " 'Avengers: Infinity War': 19,\n",
       " 'Ant-Man and the Wasp': 20,\n",
       " 'Captain Marve': 21,\n",
       " 'Avengers: Endgame': 22,\n",
       " 'Spider-Man: Far from Home': 23,\n",
       " 'Catwoman': 24,\n",
       " 'Batman Begins': 25,\n",
       " 'Superman Returns': 26,\n",
       " 'The Dark Knight': 27,\n",
       " 'Watchmen': 28,\n",
       " 'Jonah Hex\\xa0': 29,\n",
       " 'Green Lantern': 30,\n",
       " 'The Dark Knight Rises': 31,\n",
       " 'Man of Steel': 32,\n",
       " 'Batman v Superman: Dawn of Justice': 33,\n",
       " 'Suicide Squad\\xa0': 34,\n",
       " 'Wonder Woman': 35,\n",
       " 'Justice League': 36,\n",
       " 'Aquaman': 37,\n",
       " 'Shazam!': 38,\n",
       " 'Joker': 39}"
      ]
     },
     "execution_count": 54,
     "metadata": {},
     "output_type": "execute_result"
    }
   ],
   "source": [
    "mycursor.execute(\"SELECT movie_id, original_title FROM movies\")\n",
    "movie_ids = {name: id for id, name in mycursor}\n",
    "movie_ids"
   ]
  },
  {
   "cell_type": "code",
   "execution_count": 56,
   "id": "76795014",
   "metadata": {},
   "outputs": [
    {
     "data": {
      "text/plain": [
       "[(1, 7.9, 79),\n",
       " (2, 6.7, 61),\n",
       " (3, 7.0, 57),\n",
       " (4, 7.0, 57),\n",
       " (5, 6.9, 66),\n",
       " (6, 8.0, 69),\n",
       " (7, 7.2, 62),\n",
       " (8, 6.9, 54),\n",
       " (9, 7.7, 70),\n",
       " (10, 8.0, 76),\n",
       " (11, 7.3, 66),\n",
       " (12, 7.3, 64),\n",
       " (13, 7.8, 75),\n",
       " (14, 7.5, 72),\n",
       " (15, 7.6, 67),\n",
       " (16, 7.4, 73),\n",
       " (17, 7.9, 74),\n",
       " (18, 7.3, 88),\n",
       " (19, 8.5, 68),\n",
       " (20, 7.1, 70),\n",
       " (21, 6.9, 64),\n",
       " (22, 8.5, 78),\n",
       " (23, 7.6, 69),\n",
       " (24, 3.3, 27),\n",
       " (25, 8.2, 70),\n",
       " (26, 6.0, 72),\n",
       " (27, 9.0, 84),\n",
       " (28, 7.6, 56),\n",
       " (29, 4.7, 33),\n",
       " (30, 5.5, 39),\n",
       " (31, 8.4, 78),\n",
       " (32, 7.1, 55),\n",
       " (33, 6.5, 44),\n",
       " (34, 6.0, 40),\n",
       " (35, 7.4, 76),\n",
       " (36, 6.4, 45),\n",
       " (37, 7.0, 55),\n",
       " (38, 7.1, 71),\n",
       " (39, 8.7, 59)]"
      ]
     },
     "execution_count": 56,
     "metadata": {},
     "output_type": "execute_result"
    }
   ],
   "source": [
    "rate = [\n",
    "    (\n",
    "        movie_ids[df['Original Title'][i]],\n",
    "        float(df['Rate'][i]),\n",
    "        int(df['Metascore'][i]))\n",
    "        for i in df.index\n",
    "    ]\n",
    "\n",
    "rate"
   ]
  },
  {
   "cell_type": "code",
   "execution_count": 57,
   "id": "eb0e7d87",
   "metadata": {},
   "outputs": [],
   "source": [
    "mydb = mysql.connector.connect(\n",
    "    host = \"localhost\",\n",
    "    user = \"root\",\n",
    "    password = password,\n",
    "    database = 'mcu_vs_dcu'\n",
    ")\n",
    "\n",
    "mycursor = mydb.cursor()\n",
    "sql = \"INSERT INTO ratings (movie_id, rate, metascore) VALUES (%s, %s, %s)\"\n",
    "\n",
    "mycursor.executemany(sql, rate) \n",
    "mydb.commit() "
   ]
  },
  {
   "cell_type": "markdown",
   "id": "cb75fd87",
   "metadata": {},
   "source": [
    "И отдельная таблица про деньги. Тоже нужна для аналитики"
   ]
  },
  {
   "cell_type": "code",
   "execution_count": 58,
   "id": "0a7c06a9",
   "metadata": {},
   "outputs": [],
   "source": [
    "mydb = mysql.connector.connect(\n",
    "    host = \"localhost\",\n",
    "    user = \"root\",\n",
    "    password = password,\n",
    "    database = 'mcu_vs_dcu'\n",
    ")\n",
    "\n",
    "mycursor = mydb.cursor()\n",
    "mycursor.execute(\"\"\"CREATE TABLE finance (\n",
    "    movie_id INT NOT NULL,\n",
    "    budget DECIMAL(15,2),\n",
    "    opening_weekend_usa DECIMAL(15,2),\n",
    "    gross_usa DECIMAL(15,2),\n",
    "    gross_worldwide DECIMAL(15,2),\n",
    "    FOREIGN KEY (movie_id) REFERENCES movies(movie_id)\n",
    ")\"\"\")"
   ]
  },
  {
   "cell_type": "code",
   "execution_count": 66,
   "id": "e2093877",
   "metadata": {},
   "outputs": [
    {
     "data": {
      "text/plain": [
       "[(1, 140000000, 98618668, 318604126, 585366247),\n",
       " (2, 150000000, 55414050, 134806913, 263427551),\n",
       " (3, 200000000, 128122480, 312433331, 623933331),\n",
       " (4, 150000000, 65723338, 181030624, 449326618),\n",
       " (5, 140000000, 65058524, 176654505, 370569774),\n",
       " (6, 220000000, 207438708, 623357910, 1518812988),\n",
       " (7, 200000000, 174144585, 409013994, 1214811252),\n",
       " (8, 170000000, 85737841, 206362140, 644783140),\n",
       " (9, 170000000, 95023721, 259766572, 714421503),\n",
       " (10, 170000000, 94320883, 333176600, 772776600),\n",
       " (11, 250000000, 191271109, 459005868, 1402805868),\n",
       " (12, 130000000, 57225526, 180202163, 519311965),\n",
       " (13, 250000000, 179139142, 408084349, 1153296293),\n",
       " (14, 165000000, 85058311, 232641920, 677718395),\n",
       " (15, 200000000, 146510104, 389813101, 863756051),\n",
       " (16, 175000000, 117027503, 334201140, 880166924),\n",
       " (17, 180000000, 122744989, 315058289, 853977126),\n",
       " (18, 200000000, 202003951, 700059566, 1346913161),\n",
       " (19, 321000000, 257698183, 678815482, 2048359754),\n",
       " (20, 162000000, 75812205, 216648740, 622674139),\n",
       " (21, 175000000, 153433423, 426829839, 1128274794),\n",
       " (22, 356000000, 357115007, 858373000, 2797800564),\n",
       " (23, 160000000, 92579212, 390532085, 1131927996),\n",
       " (24, 100000000, 16728411, 40202379, 82102379),\n",
       " (25, 150000000, 48745440, 206852432, 373413297),\n",
       " (26, 270000000, 52535096, 200081192, 391081192),\n",
       " (27, 185000000, 158411483, 535234033, 1004934033),\n",
       " (28, 130000000, 55214334, 107509799, 185258983),\n",
       " (29, 47000000, 5379365, 10547117, 10903312),\n",
       " (30, 200000000, 53174303, 116601172, 219851172),\n",
       " (31, 250000000, 160887295, 448139099, 1081041287),\n",
       " (32, 225000000, 116619362, 291045518, 668045518),\n",
       " (33, 250000000, 166007347, 330360194, 873634919),\n",
       " (34, 175000000, 133682248, 325100054, 746846894),\n",
       " (35, 149000000, 103251471, 412563408, 821847012),\n",
       " (36, 300000000, 93842239, 229024295, 657924295),\n",
       " (37, 160000000, 67873522, 335061807, 1148161807),\n",
       " (38, 100000000, 53505326, 140371656, 364571656),\n",
       " (39, 55000000, 96202337, 333204580, 1060504580)]"
      ]
     },
     "execution_count": 66,
     "metadata": {},
     "output_type": "execute_result"
    }
   ],
   "source": [
    "finance = [\n",
    "    (\n",
    "        movie_ids[df['Original Title'][i]],\n",
    "        int(df['Budget'][i]),\n",
    "        int(df['Opening Weekend USA'][i]),\n",
    "        int(df['Gross USA'][i]),\n",
    "        int(df['Gross Worldwide'][i])\n",
    "        )\n",
    "        for i in df.index\n",
    "    ]\n",
    "finance"
   ]
  },
  {
   "cell_type": "code",
   "execution_count": 67,
   "id": "3502875f",
   "metadata": {},
   "outputs": [],
   "source": [
    "mydb = mysql.connector.connect(\n",
    "    host = \"localhost\",\n",
    "    user = \"root\",\n",
    "    password = password,\n",
    "    database = 'mcu_vs_dcu'\n",
    ")\n",
    "\n",
    "mycursor = mydb.cursor()\n",
    "sql = \"INSERT INTO finance (movie_id, budget, opening_weekend_usa, gross_usa, gross_worldwide) VALUES (%s, %s, %s, %s, %s)\"\n",
    "\n",
    "mycursor.executemany(sql, finance) \n",
    "mydb.commit() "
   ]
  },
  {
   "cell_type": "code",
   "execution_count": 68,
   "id": "5a8386aa",
   "metadata": {},
   "outputs": [
    {
     "name": "stdout",
     "output_type": "stream",
     "text": [
      "('companies',)\n",
      "('finance',)\n",
      "('movies',)\n",
      "('ratings',)\n"
     ]
    }
   ],
   "source": [
    "mycursor = mydb.cursor()\n",
    "mycursor.execute(\"SHOW TABLES\")\n",
    "\n",
    "for table in mycursor:\n",
    "  print(table)"
   ]
  },
  {
   "cell_type": "markdown",
   "id": "edfd098f",
   "metadata": {},
   "source": [
    "**Аналитика**"
   ]
  },
  {
   "cell_type": "markdown",
   "id": "05961c7b",
   "metadata": {},
   "source": [
    "Киновселенная Марвел начинает свой отсчет с 2008 года. Посмотрим, какие фильмы выпустили до этого года"
   ]
  },
  {
   "cell_type": "code",
   "execution_count": 28,
   "id": "b0375ea4",
   "metadata": {},
   "outputs": [
    {
     "name": "stdout",
     "output_type": "stream",
     "text": [
      "('Catwoman', 2004)\n",
      "('Batman Begins', 2005)\n",
      "('Superman Returns', 2006)\n"
     ]
    }
   ],
   "source": [
    "mydb = mysql.connector.connect(\n",
    "    host = \"localhost\",\n",
    "    user = \"root\",\n",
    "    password = password,\n",
    "    database = 'mcu_vs_dcu'\n",
    ")\n",
    "\n",
    "mycursor = mydb.cursor()\n",
    "mycursor.execute(\"\"\"\n",
    "    SELECT original_title, release_year\n",
    "FROM movies\n",
    "WHERE release_year < 2008;\n",
    "\"\"\")\n",
    "for i in mycursor:\n",
    "    print(i)\n",
    "\n"
   ]
  },
  {
   "cell_type": "markdown",
   "id": "f80db4df",
   "metadata": {},
   "source": [
    "Известно, что фильмы про супергероев достаточно длинные. Сколько фильмов из 39 длятся дольше 2.5ч?"
   ]
  },
  {
   "cell_type": "code",
   "execution_count": 29,
   "id": "2fd957b2",
   "metadata": {},
   "outputs": [
    {
     "name": "stdout",
     "output_type": "stream",
     "text": [
      "(6,)\n"
     ]
    }
   ],
   "source": [
    "mydb = mysql.connector.connect(\n",
    "    host = \"localhost\",\n",
    "    user = \"root\",\n",
    "    password = password,\n",
    "    database = 'mcu_vs_dcu'\n",
    ")\n",
    "\n",
    "mycursor = mydb.cursor()\n",
    "mycursor.execute(\"\"\"\n",
    "    SELECT Count(\n",
    "original_title)\n",
    "FROM movies \n",
    "Where duration_min > 150\n",
    "ORDER BY duration_min DESC\n",
    "\"\"\")\n",
    "for i in mycursor:\n",
    "    print(i)"
   ]
  },
  {
   "cell_type": "markdown",
   "id": "5f3a39d6",
   "metadata": {},
   "source": [
    "Посмотрим на Топ-5 самых прибыльных фильмов.\n",
    "Логика запроса:\n",
    "1. Сначала получим данные для расчета прибыли из таблицы finance и названия фильмов с их id из movies (для удобства используем JOIN, хотя можно было бы и вложенный запрос написать, но как я поняла, JOIN работает быстреее, пробуем его)\n",
    "2. посчитаем доход для каждого фильма и подготовим данные для записи в новую таблицу \n",
    "3. сделаем запрос к новой таблице, который покажет фильмы и их доходы в порядке убывания"
   ]
  },
  {
   "cell_type": "code",
   "execution_count": 18,
   "id": "a0941ebe",
   "metadata": {},
   "outputs": [
    {
     "data": {
      "text/plain": [
       "[(1, Decimal('318.12')),\n",
       " (2, Decimal('75.62')),\n",
       " (3, Decimal('211.97')),\n",
       " (4, Decimal('199.55')),\n",
       " (5, Decimal('164.69')),\n",
       " (6, Decimal('590.37')),\n",
       " (7, Decimal('507.41')),\n",
       " (8, Decimal('279.28')),\n",
       " (9, Decimal('320.25')),\n",
       " (10, Decimal('354.57')),\n",
       " (11, Decimal('461.12')),\n",
       " (12, Decimal('299.47')),\n",
       " (13, Decimal('361.32')),\n",
       " (14, Decimal('310.74')),\n",
       " (15, Decimal('331.88')),\n",
       " (16, Decimal('402.95')),\n",
       " (17, Decimal('374.43')),\n",
       " (18, Decimal('573.46')),\n",
       " (19, Decimal('538.12')),\n",
       " (20, Decimal('284.37')),\n",
       " (21, Decimal('544.73')),\n",
       " (22, Decimal('685.90')),\n",
       " (23, Decimal('607.45')),\n",
       " (24, Decimal('-17.90')),\n",
       " (25, Decimal('148.94')),\n",
       " (26, Decimal('44.84')),\n",
       " (27, Decimal('443.21')),\n",
       " (28, Decimal('42.51')),\n",
       " (29, Decimal('-76.80')),\n",
       " (30, Decimal('9.93')),\n",
       " (31, Decimal('332.42')),\n",
       " (32, Decimal('196.91')),\n",
       " (33, Decimal('249.45')),\n",
       " (34, Decimal('326.77')),\n",
       " (35, Decimal('451.58')),\n",
       " (36, Decimal('119.31')),\n",
       " (37, Decimal('617.60')),\n",
       " (38, Decimal('264.57')),\n",
       " (39, Decimal('1828.19'))]"
      ]
     },
     "execution_count": 18,
     "metadata": {},
     "output_type": "execute_result"
    }
   ],
   "source": [
    "mydb = mysql.connector.connect(\n",
    "    host = \"localhost\",\n",
    "    user = \"root\",\n",
    "    password = password,\n",
    "    database = 'mcu_vs_dcu'\n",
    ")\n",
    "\n",
    "mycursor = mydb.cursor()\n",
    "data = []\n",
    "mycursor.execute(\"\"\"\n",
    "    SELECT m.movie_id, m.original_title, f.budget, f.gross_worldwide \n",
    "    FROM movies m\n",
    "    JOIN finance f ON m.movie_id = f.movie_id\n",
    "\"\"\")\n",
    "for (movie_id, title, budget, gross) in mycursor:\n",
    "    roi = ((gross - budget) / budget) * 100\n",
    "    data.append((movie_id, round(roi, 2)))\n",
    "\n",
    "data"
   ]
  },
  {
   "cell_type": "code",
   "execution_count": null,
   "id": "2df5223f",
   "metadata": {},
   "outputs": [],
   "source": [
    "mydb = mysql.connector.connect(\n",
    "    host = \"localhost\",\n",
    "    user = \"root\",\n",
    "    password = password,\n",
    "    database = 'mcu_vs_dcu'\n",
    ")\n",
    "\n",
    "mycursor = mydb.cursor()\n",
    "mycursor.execute(\"\"\"CREATE TABLE analytics (\n",
    "    movie_id INT NOT NULL,\n",
    "    roi_value DECIMAL(10,2) NOT NULL,\n",
    "    FOREIGN KEY (movie_id) REFERENCES movies(movie_id)\n",
    ")\"\"\")"
   ]
  },
  {
   "cell_type": "code",
   "execution_count": 19,
   "id": "b4fe7586",
   "metadata": {},
   "outputs": [],
   "source": [
    "mydb = mysql.connector.connect(\n",
    "    host = \"localhost\",\n",
    "    user = \"root\",\n",
    "    password = password,\n",
    "    database = 'mcu_vs_dcu'\n",
    ")\n",
    "\n",
    "mycursor = mydb.cursor()\n",
    "sql = \"INSERT INTO analytics (movie_id, roi_value) VALUES (%s, %s)\"\n",
    "\n",
    "mycursor.executemany(sql, data) \n",
    "mydb.commit() "
   ]
  },
  {
   "cell_type": "markdown",
   "id": "88f28ba0",
   "metadata": {},
   "source": [
    "Запрос тоже сделала через JOIN, мне понравилось, это удобнее, чем использовать кучу вложенных селектов"
   ]
  },
  {
   "cell_type": "code",
   "execution_count": 22,
   "id": "016c7ee5",
   "metadata": {},
   "outputs": [
    {
     "name": "stdout",
     "output_type": "stream",
     "text": [
      "('Joker', Decimal('1828.19'))\n",
      "('Avengers: Endgame', Decimal('685.90'))\n",
      "('Aquaman', Decimal('617.60'))\n",
      "('Spider-Man: Far from Home', Decimal('607.45'))\n",
      "('The Avengers', Decimal('590.37'))\n"
     ]
    }
   ],
   "source": [
    "sql = \"\"\"\n",
    "SELECT m.original_title, a.roi_value\n",
    "FROM analytics a\n",
    "JOIN movies m ON a.movie_id = m.movie_id\n",
    "ORDER BY roi_value DESC;\n",
    "\"\"\"\n",
    "mycursor.execute(sql)\n",
    "myresult = mycursor.fetchall()\n",
    "for tupl in myresult[:5]:\n",
    "   print(tupl)"
   ]
  },
  {
   "cell_type": "markdown",
   "id": "5087f3df",
   "metadata": {},
   "source": [
    "Интересно, я думала Мстители прибыльнее..."
   ]
  },
  {
   "cell_type": "markdown",
   "id": "751298da",
   "metadata": {},
   "source": [
    "Сейчас много вложенных селектов, чтобы сломать себе весь мозг, но добиться результата (Кстати именно здесь у меня умер kernel, поэтому еще плюс балл JOIN)"
   ]
  },
  {
   "cell_type": "markdown",
   "id": "7fda8e65",
   "metadata": {},
   "source": [
    "Теперь посмотрим на средний рейтинг фильмов каждой киновселенной через вложенный запрос\n",
    "1. Сначала пишем подзапрос, который выбирает все фильмы одной компании (SELECT movie_id FROM movies WHERE company_id = c.company_id)\n",
    "2. Вычисляем средний рейтинг по фильмам одной компании (SELECT уровнем выше)\n",
    "3. Выбираем наименования компании их уже посчитанные в подзапросах рейтинги,сортируя по рейтингу в порядке убывания\n"
   ]
  },
  {
   "cell_type": "code",
   "execution_count": 24,
   "id": "e04acfa2",
   "metadata": {},
   "outputs": [
    {
     "name": "stdout",
     "output_type": "stream",
     "text": [
      "('Marvel', 7.48)\n",
      "('DC', 6.81)\n"
     ]
    }
   ],
   "source": [
    "sql = \"\"\"\n",
    "SELECT c.company_name,\n",
    "    (SELECT ROUND(AVG(r.rate), 2) \n",
    "     FROM ratings r \n",
    "     WHERE r.movie_id IN (SELECT movie_id FROM movies WHERE company_id = c.company_id)\n",
    "    ) AS avg_rating\n",
    "FROM companies c\n",
    "ORDER BY avg_rating DESC;\n",
    "\"\"\"\n",
    "mycursor.execute(sql)\n",
    "myresult = mycursor.fetchall()\n",
    "for tupl in myresult:\n",
    "   print(tupl)"
   ]
  },
  {
   "cell_type": "markdown",
   "id": "a4d62a2c",
   "metadata": {},
   "source": [
    "На самом деле, результат ожидаемый"
   ]
  },
  {
   "cell_type": "markdown",
   "id": "fae61c3e",
   "metadata": {},
   "source": [
    "И в конце посмотрим на лучшие фильмы среди кинокритиков и аудитории"
   ]
  },
  {
   "cell_type": "code",
   "execution_count": 33,
   "id": "34c4f35b",
   "metadata": {},
   "outputs": [
    {
     "name": "stdout",
     "output_type": "stream",
     "text": [
      "('Black Panther', 88)\n",
      "('The Dark Knight', 84)\n",
      "('Iron Man', 79)\n",
      "('Avengers: Endgame', 78)\n",
      "('The Dark Knight Rises', 78)\n",
      "('Wonder Woman', 76)\n",
      "('Guardians of the Galaxy', 76)\n",
      "('Captain America: Civil War', 75)\n",
      "('Thor:Ragnarok', 74)\n",
      "('Spider-Man: Homecoming', 73)\n"
     ]
    }
   ],
   "source": [
    "mydb = mysql.connector.connect(\n",
    "    host = \"localhost\",\n",
    "    user = \"root\",\n",
    "    password = password,\n",
    "    database = 'mcu_vs_dcu'\n",
    ")\n",
    "\n",
    "mycursor = mydb.cursor()\n",
    "mycursor.execute(\"\"\"\n",
    "SELECT original_title, metascore\n",
    "FROM movies m\n",
    "JOIN ratings r ON m.movie_id = r.movie_id\n",
    "ORDER BY r.metascore DESC\n",
    "\"\"\")\n",
    "myresult = mycursor.fetchall()\n",
    "for tupl in myresult[:10]:\n",
    "   print(tupl)"
   ]
  },
  {
   "cell_type": "code",
   "execution_count": 34,
   "id": "7fe301b6",
   "metadata": {},
   "outputs": [
    {
     "name": "stdout",
     "output_type": "stream",
     "text": [
      "('The Dark Knight', 9.0)\n",
      "('Joker', 8.7)\n",
      "('Avengers: Infinity War', 8.5)\n",
      "('Avengers: Endgame', 8.5)\n",
      "('The Dark Knight Rises', 8.4)\n",
      "('Batman Begins', 8.2)\n",
      "('Guardians of the Galaxy', 8.0)\n",
      "('The Avengers', 8.0)\n",
      "('Thor:Ragnarok', 7.9)\n",
      "('Iron Man', 7.9)\n"
     ]
    }
   ],
   "source": [
    "mydb = mysql.connector.connect(\n",
    "    host = \"localhost\",\n",
    "    user = \"root\",\n",
    "    password = password,\n",
    "    database = 'mcu_vs_dcu'\n",
    ")\n",
    "\n",
    "mycursor = mydb.cursor()\n",
    "mycursor.execute(\"\"\"\n",
    "SELECT original_title, rate\n",
    "FROM movies m\n",
    "JOIN ratings r ON m.movie_id = r.movie_id\n",
    "ORDER BY r.rate DESC\n",
    "\"\"\")\n",
    "myresult = mycursor.fetchall()\n",
    "for tupl in myresult[:10]:\n",
    "   print(tupl)"
   ]
  },
  {
   "cell_type": "markdown",
   "id": "82789f3b",
   "metadata": {},
   "source": [
    "Благодаря этим двух запросам мы видим, что мнение кинокритиков и обычных людей достаточно отличаются. Например, люди выбирают Джокера, в то время, как кинокритики Черную Пантеру. Но любимчиком у всех остается Черный Рыцарь"
   ]
  },
  {
   "cell_type": "markdown",
   "id": "bc0c75ee",
   "metadata": {},
   "source": []
  }
 ],
 "metadata": {
  "kernelspec": {
   "display_name": "Python 3",
   "language": "python",
   "name": "python3"
  },
  "language_info": {
   "codemirror_mode": {
    "name": "ipython",
    "version": 3
   },
   "file_extension": ".py",
   "mimetype": "text/x-python",
   "name": "python",
   "nbconvert_exporter": "python",
   "pygments_lexer": "ipython3",
   "version": "3.10.10"
  }
 },
 "nbformat": 4,
 "nbformat_minor": 5
}
